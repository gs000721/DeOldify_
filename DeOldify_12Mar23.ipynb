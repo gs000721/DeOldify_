{
  "nbformat": 4,
  "nbformat_minor": 0,
  "metadata": {
    "colab": {
      "provenance": []
    },
    "kernelspec": {
      "name": "python3",
      "display_name": "Python 3"
    },
    "language_info": {
      "name": "python"
    }
  },
  "cells": [
    {
      "cell_type": "code",
      "execution_count": null,
      "metadata": {
        "id": "wpgS7fusESPS"
      },
      "outputs": [],
      "source": [
        "!git clone https://github.com/jantic/DeOldify.git\n"
      ]
    },
    {
      "cell_type": "code",
      "source": [
        "%cd DeOldify\n"
      ],
      "metadata": {
        "id": "BzWqetGlETFA"
      },
      "execution_count": null,
      "outputs": []
    },
    {
      "cell_type": "code",
      "source": [
        "!pip install -r requirements.txt\n"
      ],
      "metadata": {
        "id": "JeIIWKANEbVi"
      },
      "execution_count": null,
      "outputs": []
    },
    {
      "cell_type": "code",
      "source": [
        "#NOTE:  This must be the first call in order to work properly!\n",
        "from deoldify import device\n",
        "from deoldify.device_id import DeviceId\n",
        "#choices:  CPU, GPU0...GPU7\n",
        "device.set(device=DeviceId.GPU0)"
      ],
      "metadata": {
        "id": "pmQsFACJEe3y"
      },
      "execution_count": null,
      "outputs": []
    },
    {
      "cell_type": "code",
      "source": [
        "!pip install --upgrade pillow\n"
      ],
      "metadata": {
        "id": "hfKBf1isFuoq"
      },
      "execution_count": null,
      "outputs": []
    },
    {
      "cell_type": "code",
      "source": [
        "from deoldify.visualize import *\n",
        "plt.style.use('dark_background')\n",
        "torch.backends.cudnn.benchmark=True\n",
        "import warnings\n",
        "warnings.filterwarnings(\"ignore\", category=UserWarning, message=\".*?Your .*? set is empty.*?\")"
      ],
      "metadata": {
        "id": "lcQXfXOdFo4s"
      },
      "execution_count": null,
      "outputs": []
    },
    {
      "cell_type": "code",
      "source": [
        "!wget https://data.deepai.org/deoldify/ColorizeArtistic_gen.pth -P ./models/\n"
      ],
      "metadata": {
        "id": "YRS5rkVTGXLf"
      },
      "execution_count": null,
      "outputs": []
    },
    {
      "cell_type": "code",
      "source": [
        "colorizer = get_image_colorizer(artistic=True)"
      ],
      "metadata": {
        "id": "TtPwARoqFsAN"
      },
      "execution_count": null,
      "outputs": []
    },
    {
      "cell_type": "code",
      "source": [
        "#NOTE:  Max is 45 with 11GB video cards. 35 is a good default\n",
        "render_factor=35\n",
        "#NOTE:  Make source_url None to just read from file at ./video/source/[file_name] directly without modification\n",
        "source_url='https://cdn.vox-cdn.com/thumbor/l9o32IskVsw5T5CzzTfpmjfTkVM=/1400x0/filters:no_upscale()/cdn.vox-cdn.com/uploads/chorus_asset/file/3582516/sadmen.0.jpg'\n",
        "source_path = 'test_images/image.png'\n",
        "result_path = 'result_images/'\n",
        "\n",
        "if source_url is not None:\n",
        "    result_path = colorizer.plot_transformed_image_from_url(url=source_url, path=source_path, render_factor=render_factor, compare=True)\n",
        "else:\n",
        "    result_path = colorizer.plot_transformed_image(path=source_path, render_factor=render_factor, compare=True)\n",
        "\n",
        "show_image_in_notebook(result_path)"
      ],
      "metadata": {
        "id": "sXCvOJz_HRZH"
      },
      "execution_count": null,
      "outputs": []
    },
    {
      "cell_type": "code",
      "source": [],
      "metadata": {
        "id": "MQ6K3fmaHpRE"
      },
      "execution_count": null,
      "outputs": []
    },
    {
      "cell_type": "code",
      "source": [],
      "metadata": {
        "id": "q3ZuYnxxII4g"
      },
      "execution_count": null,
      "outputs": []
    }
  ]
}